{
 "cells": [
  {
   "cell_type": "code",
   "execution_count": 42,
   "metadata": {},
   "outputs": [],
   "source": [
    "from langchain.utilities import DuckDuckGoSearchAPIWrapper\n",
    "from langchain.retrievers import WikipediaRetriever\n",
    "import json\n",
    "\n",
    "\n",
    "def get_duckduckgo_data(inputs):\n",
    "    ddg = DuckDuckGoSearchAPIWrapper()\n",
    "    query = inputs[\"query\"]\n",
    "    return ddg.run(query)\n",
    "\n",
    "\n",
    "def get_wikipedia_data(inputs):\n",
    "    retriever = WikipediaRetriever(top_k_results=2)\n",
    "    query = inputs[\"query\"]\n",
    "    docs = retriever.get_relevant_documents(query)\n",
    "    docs = \"\\n\\n\".join(document.page_content for document in docs)\n",
    "    return docs\n",
    "\n",
    "\n",
    "functions_map = {\n",
    "    \"get_duckduckgo_data\": get_duckduckgo_data,\n",
    "    \"get_wikipedia_data\": get_wikipedia_data,\n",
    "}\n",
    "\n",
    "\n",
    "functions = [\n",
    "    {\n",
    "        \"type\": \"function\",\n",
    "        \"function\": {\n",
    "            \"name\": \"get_duckduckgo_data\",\n",
    "            \"description\": \"From given query, find a main keyword and get data from duckduckgo.\",\n",
    "            \"parameters\": {\n",
    "                \"type\": \"object\",\n",
    "                \"properties\": {\n",
    "                    \"query\": {\n",
    "                        \"type\": \"string\",\n",
    "                        \"description\": \"Searching query which contains a main keyword.\",\n",
    "                    },\n",
    "                },\n",
    "                \"required\": [\"query\"],\n",
    "            },\n",
    "        },\n",
    "    },\n",
    "    {\n",
    "        \"type\": \"function\",\n",
    "        \"function\": {\n",
    "            \"name\": \"get_wikipedia_data\",\n",
    "            \"description\": \"From given query, find a main keyword and get data from wikipedia.\",\n",
    "            \"parameters\": {\n",
    "                \"type\": \"object\",\n",
    "                \"properties\": {\n",
    "                    \"query\": {\n",
    "                        \"type\": \"string\",\n",
    "                        \"description\": \"Searching query which contains a main keyword.\",\n",
    "                    },\n",
    "                },\n",
    "                \"required\": [\"query\"],\n",
    "            },\n",
    "        },\n",
    "    },\n",
    "]"
   ]
  },
  {
   "cell_type": "code",
   "execution_count": 13,
   "metadata": {},
   "outputs": [],
   "source": [
    "from openai import OpenAI\n",
    "\n",
    "client = OpenAI()\n",
    "\n",
    "# assistant = client.beta.assistants.create(\n",
    "#     name = \"Investor Assistant\",\n",
    "#     instructions=\"\"\"You are a very meticulous Data searcher.\n",
    "\n",
    "#                 You want to find information from every source possible.\n",
    "\n",
    "#                 You can find information from both DuckDuckGo and Wikipedia.\n",
    "\n",
    "#                 After searching data from duckduckgo and wikipedia, You should write a professional report about main keyword.\"\"\",\n",
    "#     model = \"gpt-3.5-turbo\",\n",
    "#     tools=functions,\n",
    "# )\n",
    "\n",
    "assistant_id = \"asst_K9059MPIX3nrBVZRGHubVTEA\""
   ]
  },
  {
   "cell_type": "code",
   "execution_count": 36,
   "metadata": {},
   "outputs": [
    {
     "data": {
      "text/plain": [
       "Thread(id='thread_5Mf6piqe0XTwo9uHCi6bANgu', created_at=1712902655, metadata={}, object='thread')"
      ]
     },
     "execution_count": 36,
     "metadata": {},
     "output_type": "execute_result"
    }
   ],
   "source": [
    "thread = client.beta.threads.create(\n",
    "    messages=[\n",
    "        {\n",
    "            \"role\": \"user\",\n",
    "            \"content\" : \"What is a blue archive?\"\n",
    "        }\n",
    "    ]\n",
    ")\n",
    "\n",
    "thread"
   ]
  },
  {
   "cell_type": "code",
   "execution_count": 37,
   "metadata": {},
   "outputs": [
    {
     "data": {
      "text/plain": [
       "Run(id='run_ZylJYPaMFIpSArhZS6jEHW2O', assistant_id='asst_K9059MPIX3nrBVZRGHubVTEA', cancelled_at=None, completed_at=None, created_at=1712902658, expires_at=1712903258, failed_at=None, file_ids=[], instructions='You are a very meticulous Data searcher. You should find information from both duckduckgo and wikipedia.            You can find information from both DuckDuckGo and Wikipedia.\\nAfter searching data from duckduckgo and wikipedia, You should write a professional report about main keyword.', last_error=None, metadata={}, model='gpt-3.5-turbo', object='thread.run', required_action=None, started_at=None, status='queued', thread_id='thread_5Mf6piqe0XTwo9uHCi6bANgu', tools=[FunctionTool(function=FunctionDefinition(name='get_duckduckgo_data', description='From given query, find a main keyword and get data from duckduckgo.', parameters={'type': 'object', 'properties': {'query': {'type': 'string', 'description': 'Searching query which contains a main keyword.'}}, 'required': ['query']}), type='function'), FunctionTool(function=FunctionDefinition(name='get_wikipedia_data', description='From given query, find a main keyword and get data from wikipedia.', parameters={'type': 'object', 'properties': {'query': {'type': 'string', 'description': 'Searching query which contains a main keyword.'}}, 'required': ['query']}), type='function')], usage=None, temperature=1.0, max_completion_tokens=None, max_prompt_tokens=None, truncation_strategy={'type': 'auto', 'last_messages': None}, incomplete_details=None)"
      ]
     },
     "execution_count": 37,
     "metadata": {},
     "output_type": "execute_result"
    }
   ],
   "source": [
    "run = client.beta.threads.runs.create(\n",
    "    thread_id=thread.id,\n",
    "    assistant_id=assistant_id,\n",
    ")\n",
    "\n",
    "run"
   ]
  },
  {
   "cell_type": "code",
   "execution_count": 43,
   "metadata": {},
   "outputs": [],
   "source": [
    "def get_run(run_id, thread_id):\n",
    "    return client.beta.threads.runs.retrieve(\n",
    "        run_id=run_id,\n",
    "        thread_id=thread_id,\n",
    "    )\n",
    "\n",
    "def send_message(thread_id, content):\n",
    "    return client.beta.threads.messages.create(\n",
    "        thread_id=thread_id,\n",
    "        role=\"user\",\n",
    "        content=content\n",
    "    )\n",
    "\n",
    "def get_messages(thread_id):\n",
    "    messages = client.beta.threads.messages.list(\n",
    "        thread_id=thread_id\n",
    "    ).data\n",
    "    messages.reverse()\n",
    "    for message in messages:\n",
    "        print(f\"{message.role}: {message.content[0].text.value}\")\n",
    "\n",
    "def get_tools_outputs(run_id, thread_id):\n",
    "    run = get_run(run_id, thread_id)\n",
    "    outputs = []\n",
    "    for action in run.required_action.submit_tool_outputs.tool_calls:\n",
    "        action_id = action.id\n",
    "        function = action.function\n",
    "        outputs.append({\n",
    "            \"tool_call_id\" : action_id,\n",
    "            \"output\": functions_map[function.name](json.loads(function.arguments))\n",
    "        })\n",
    "    return outputs\n",
    "\n",
    "\n",
    "def submit_tools_outputs(run_id, thread_id):\n",
    "    outputs = get_tools_outputs(run_id, thread_id)\n",
    "    return client.beta.threads.runs.submit_tool_outputs(\n",
    "        run_id = run_id,\n",
    "        thread_id=thread_id,\n",
    "        tool_outputs=outputs,\n",
    "    )\n",
    "\n",
    "\n"
   ]
  },
  {
   "cell_type": "code",
   "execution_count": 38,
   "metadata": {},
   "outputs": [
    {
     "data": {
      "text/plain": [
       "'requires_action'"
      ]
     },
     "execution_count": 38,
     "metadata": {},
     "output_type": "execute_result"
    }
   ],
   "source": [
    "get_run(run.id, thread.id).status"
   ]
  },
  {
   "cell_type": "code",
   "execution_count": 39,
   "metadata": {},
   "outputs": [
    {
     "name": "stdout",
     "output_type": "stream",
     "text": [
      "user: What is a blue archive?\n"
     ]
    }
   ],
   "source": [
    "get_messages(thread.id)"
   ]
  },
  {
   "cell_type": "code",
   "execution_count": 44,
   "metadata": {},
   "outputs": [
    {
     "name": "stdout",
     "output_type": "stream",
     "text": [
      "Calling function: get_duckduckgo_data with arg {\"query\": \"Blue Archive\"}\n",
      "Calling function: get_wikipedia_data with arg {\"query\": \"Blue Archive\"}\n"
     ]
    },
    {
     "name": "stderr",
     "output_type": "stream",
     "text": [
      "c:\\Users\\CWS\\Documents\\NomadCoder\\python_gpt\\env\\Lib\\site-packages\\curl_cffi\\aio.py:205: UserWarning: Curlm alread closed! quitting from process_data\n",
      "  warnings.warn(\"Curlm alread closed! quitting from process_data\")\n"
     ]
    },
    {
     "data": {
      "text/plain": [
       "[{'tool_call_id': 'call_grqi8gbO2oZxMnmgiXAaVFOs',\n",
       "  'output': 'MALxJapan -More than just anime-. [⏰Time-limited] Try this manga—for free! Looking for information on the anime Blue Archive the Animation? Find out more with MyAnimeList, the world\\'s most active online anime and manga community and database. The city\\'s academies are divided into their own districts and are considered mostly independent. Trip Trap Train Overview. Events. senea. April 1, 2024. Table of Contents [ Show] Following the release of the previous Millennium rerun events, we are introduced to a new event \" Trip Trap Train \". This event features 2 new Sonic students Ichika and Kasumi, who will be added to the permanent pool of students once their banner ends. An overview of all characters implemented on the wiki. Please also see the following listings: Interactive chart of character stats; Unique weapons list Learn how to rank and summon characters in Blue Archive, a gacha game based on the Federal Investigation Club. Find out the best attackers, healers, supports, and tanks for your team. Find everything you need to know about Blue Archive, a mobile game based on the anime and manga series. Explore characters, skills, stages, events, guides and more on BlueArchive.gg.'},\n",
       " {'tool_call_id': 'call_2KFJtE2Vc6mcGgdkvT1r7lZZ',\n",
       "  'output': 'Blue Archive (Japanese: ブルーアーカイブ; Korean: 블루 아카이브; Chinese: 蔚蓝档案) is a South Korean role-playing game developed by Nexon Games (formerly NAT Games), a subsidiary of Nexon. It was released in 2021 for Android and iOS, first in Japan by Yostar and worldwide later that year by Nexon. The game is free-to-play with gacha game mechanics as a means to obtain new characters. An anime television series adaptation titled Blue Archive The Animation premiered in April 2024.\\nThe player and protagonist is a Sensei who was summoned from outside the academic city-state of Kivotos by the president of the General Student Council, an extrajudicial committee governing the schools. Following her sudden disappearance, criminal activity rises around Kivotos and the player is tasked by the remaining members of the council to resolve issues that crop up and help search for the president.\\n\\n\\n== Gameplay ==\\nBlue Archive is a tactical role-playing game that allows the player to form and mobilize units of up to six members (two \"Specials\" and four \"Strikers\") to participate in various military campaigns with. Students\\' strengths can be enhanced in various ways, such as by increasing their levels, weapons, armor and skills. More students can be recruited through the gacha system using in-game currency, which may be purchased through in-app purchases.\\nThe units are mobilized on a turn-based hex map and battle initiates when they interact with an enemy or vice versa. In combat, Strikers march along a straight path and occasionally encounter groups of enemies. Strikers fire automatic attacks and can hide behind objects to decrease their chances of getting hit. Specials do not engage in direct combat but increase the Strikers\\' stats and support them from the backlines instead. The player has generally no control over battles with the exception of using students\\' skills that cost a regenerable currency to use. Students and enemies both have rock-paper-scissors-based attacks and defenses, which determine their strengths and weaknesses. Students get rescued by a helicopter and can\\'t participate in later battles if they lose all of their health.\\n\\n\\n== Story ==\\n\\n\\n=== Setting ===\\nBlue Archive takes place in the academic city-state of Kivotos, which was established by the union of thousands of academies. The city is divided into mostly independent districts, with the highest entity being the president of the General Student Council, a federal committee, who governs the city from the Sanctum Tower with access to every students\\' register.\\nBefore the events of the game, the president summons the player character, a teacher referred to as Sensei, to be the advisor of Schale, an extrajudicial organization established by the president herself. She then proceeds to disappear, giving an uprising to criminal activities and military presence in the city.\\n\\n\\n=== Story ===\\nThe main story is divided into several arcs (called Volumes) which focus on a specific group in their respective school, in which each volume is also divided into chapters. Until now, there are five story volumes and a \"final\" volume (although not the final volume of the game\\'s entire story) that ties those volumes together.\\n\\n\\n== Development and production ==\\nThe game was first introduced by NAT Games (later known as Nexon Games) and Yostar by its initial name, Project MX. The announcement, alongside the first promotion video and arts was released in February 2020. Yostar announced the mobile game and held closed beta tests for the Android version in July 2020, where it is now known by its current name as Blue Archive. Initially scheduled to be released in 2020, it was later moved to February 4, 2021.A worldwide version of the game was announced in August 2021, surpassing one million pre-registrations ahead of its release. The version, which includes English as well as Korean, Traditional Chinese and Thai language support was released on November 8 of the same year by Nexon.On November 11, 2022, Nexon updated the\\n\\nAn archive is an accumulation of historical records or materials – in any medium – or the physical facility in which they are located.Archives contain primary source documents that have accumulated over the course of an individual or organization\\'s lifetime, and are kept to show the function of that person or organization. Professional archivists and historians generally understand archives to be records that have been naturally and necessarily generated as a product of regular legal, commercial, administrative, or social activities. They have been metaphorically defined as \"the secretions of an organism\", and are distinguished from documents that have been consciously written or created to communicate a particular message to posterity.\\nIn general, archives consist of records that have been selected for permanent or long-term preservation on the grounds of their enduring cultural, historical, or evidentiary value. Archival records are normally unpublished and almost always unique, unlike books or magazines, of which many identical copies may exist. This means that archives are quite distinct from libraries with regard to their functions and organization, although archival collections can often be found within library buildings.A person who works in archives is called an archivist. The study and practice of organizing, preserving, and providing access to information and materials in archives is called archival science. The physical place of storage can be referred to as an archive (more usual in the United Kingdom), an archive (more usual in the United States), or a repository.The computing use of the term \"archive\" should not be confused with the record-keeping meaning of the term.\\n\\n\\n== Etymology ==\\nThe English word archive  is derived from the French archives (plural), and in turn from Latin archīum or archīvum, the romanized form of the Greek ἀρχεῖον (arkheion). The Greek term originally referred to the home or dwelling of the Archon, a ruler or chief magistrate, in which important official state documents were filed and interpreted; from there its meaning broadened to encompass such concepts as \"town hall\" and \"public records\". The root of the Greek word is ἀρχή (arkhē), meaning among other things \"magistracy, office, government\", and derived from the verb ἄρχω (arkhō), meaning \"to begin, rule, govern\" (also the root of English words such as \"anarchy\" and \"monarchy\").The word archive was first attested in English in the early 17th century, and the word archivist in the mid-18th century, although in these periods both terms were usually used only in reference to foreign institutions and personnel. Not until the late 19th century did they begin to be used widely in domestic contexts.The adjective formed from archive is archival.\\n\\n\\n== History ==\\nThe practice of keeping official documents is very old. Archaeologists have discovered archives of hundreds (and sometimes thousands) of clay tablets dating back to the third and second millennia BC in sites like Ebla, Mari, Amarna, Hattusas, Ugarit, and Pylos. These discoveries have been fundamental to learning about ancient alphabets, languages, literature, and politics.Oral literature, such as Palestinian hikaye, can also have archival functions for communities.Archives were well developed by the ancient Chinese, the ancient Greeks, and the ancient Romans (who called them Tabularia). However, those archives have been lost since documents written on materials like papyrus and paper deteriorated relatively quickly, unlike their clay tablet counterparts. Archives of churches, kingdoms, and cities from the Middle Ages survive and have often kept their official status uninterruptedly to the present. They are the basic tools for historical research on this period.England, after 1066, developed archives and archival access methods. The Swiss developed archival systems after 1450.\\nThe first predecessors of archival science in the West are Jacob von Rammingen\\'s manuals of 1571. and Baldassar'}]"
      ]
     },
     "execution_count": 44,
     "metadata": {},
     "output_type": "execute_result"
    }
   ],
   "source": [
    "submit_tools_outputs(run.id, thread.id)"
   ]
  }
 ],
 "metadata": {
  "kernelspec": {
   "display_name": "env",
   "language": "python",
   "name": "python3"
  },
  "language_info": {
   "codemirror_mode": {
    "name": "ipython",
    "version": 3
   },
   "file_extension": ".py",
   "mimetype": "text/x-python",
   "name": "python",
   "nbconvert_exporter": "python",
   "pygments_lexer": "ipython3",
   "version": "3.11.6"
  },
  "orig_nbformat": 4
 },
 "nbformat": 4,
 "nbformat_minor": 2
}
