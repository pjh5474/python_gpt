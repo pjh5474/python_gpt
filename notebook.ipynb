{
 "cells": [
  {
   "cell_type": "code",
   "execution_count": 2,
   "metadata": {},
   "outputs": [],
   "source": [
    "from langchain.chat_models import ChatOpenAI\n",
    "from langchain.callbacks import StreamingStdOutCallbackHandler\n",
    "\n",
    "chat_model = ChatOpenAI(\n",
    "    temperature=0.1,\n",
    "    streaming=True,\n",
    "    callbacks=[\n",
    "        StreamingStdOutCallbackHandler(),\n",
    "    ]\n",
    ")\n"
   ]
  },
  {
   "cell_type": "code",
   "execution_count": 3,
   "metadata": {},
   "outputs": [
    {
     "name": "stdout",
     "output_type": "stream",
     "text": [
      "\n",
      "        Director: Francis Ford Coppola\n",
      "        Main Cast: Marlon Brando, Al Pacino, James Caan\n",
      "        Budget: $6-7 million\n",
      "        Box Office: $245-286 million\n",
      "        Genre: Crime/Drama\n",
      "        Synopsis: \"The Godfather\" follows the powerful Corleone crime family as they navigate the world of organized crime in post-World War II America. The film explores themes of power, loyalty, and family as the youngest son, Michael Corleone, is reluctantly drawn into the family business and must confront the consequences of his choices.\n",
      "        "
     ]
    },
    {
     "data": {
      "text/plain": [
       "AIMessageChunk(content='\\n        Director: Francis Ford Coppola\\n        Main Cast: Marlon Brando, Al Pacino, James Caan\\n        Budget: $6-7 million\\n        Box Office: $245-286 million\\n        Genre: Crime/Drama\\n        Synopsis: \"The Godfather\" follows the powerful Corleone crime family as they navigate the world of organized crime in post-World War II America. The film explores themes of power, loyalty, and family as the youngest son, Michael Corleone, is reluctantly drawn into the family business and must confront the consequences of his choices.\\n        ')"
      ]
     },
     "execution_count": 3,
     "metadata": {},
     "output_type": "execute_result"
    }
   ],
   "source": [
    "from langchain.prompts import ChatPromptTemplate\n",
    "from langchain.prompts.few_shot import FewShotChatMessagePromptTemplate\n",
    "\n",
    "# 영화 이름을 가지고 감독, 주요 출연진, 예산, 흥행 수익, 영화의 장르, 간단한 시놉시스\n",
    "examples = [\n",
    "    {\n",
    "        \"movie\": \"Inception\",\n",
    "        \"answer\": \"\"\"\n",
    "        Director: Christopher Nolan\n",
    "        Main Cast: Leonardo DiCaprio, Joseph Gordon-Levitt, Ellen Page\n",
    "        Budget: $160 million\n",
    "        Box Office: $829.9 million\n",
    "        Genre: Sci-Fi/Thriller\n",
    "        Synopsis: A skilled thief who enters the subconscious of his targets to steal their secrets is offered a chance to have his criminal history erased if he can successfully implant an idea into someone's mind. As he assembles a team and delves deeper into the layers of the mind, reality becomes increasingly uncertain.\n",
    "        \"\"\",\n",
    "    },\n",
    "    {\n",
    "        \"movie\": \"The Shawshank Redemption\",\n",
    "        \"answer\": \"\"\"\n",
    "        Director: Frank Darabont\n",
    "        Main Cast: Tim Robbins, Morgan Freeman\n",
    "        Budget: $25 million\n",
    "        Box Office: $58.3 million\n",
    "        Genre: Drama\n",
    "        Synopsis: Adapted from a Stephen King novella, the film follows the story of a banker wrongly convicted of murder and sentenced to life in Shawshank State Penitentiary. Over the years, he forms a close bond with a fellow inmate and works tirelessly to maintain hope and dignity amidst the harsh realities of prison life.\n",
    "        \"\"\",\n",
    "    },\n",
    "    {\n",
    "        \"movie\": \"Avatar\",\n",
    "        \"answer\": \"\"\"\n",
    "        Director: James Cameron\n",
    "        Main Cast: Sam Worthington, Zoe Saldana, Sigourney Weaver\n",
    "        Budget: $237 million\n",
    "        Box Office: $2.79 billion\n",
    "        Genre: Sci-Fi/Action\n",
    "        Synopsis: Set on the lush moon of Pandora, \"Avatar\" follows a paraplegic ex-Marine who becomes part of a mission to exploit the planet's resources. However, he forms a bond with the indigenous Na'vi people and finds himself torn between loyalty to his own species and the call to protect Pandora and its inhabitants.\n",
    "        \"\"\",\n",
    "    },\n",
    "    {\n",
    "        \"movie\": \"The Dark Knight\",\n",
    "        \"answer\": \"\"\"\n",
    "        Director: Christopher Nolan\n",
    "        Main Cast: Christian Bale, Heath Ledger, Aaron Eckhart\n",
    "        Budget: $185 million\n",
    "        Box Office: $1.005 billion\n",
    "        Genre: Action/Crime\n",
    "        Synopsis: Batman faces one of his greatest challenges as the Joker wreaks havoc on Gotham City. With the help of allies like Commissioner Gordon and District Attorney Harvey Dent, Batman must confront his own moral dilemmas while trying to stop the Joker's reign of chaos.\n",
    "        \"\"\",\n",
    "    },\n",
    "    {\n",
    "        \"movie\": \"Forrest Gump\",\n",
    "        \"answer\": \"\"\"\n",
    "        Director: Robert Zemeckis\n",
    "        Main Cast: Tom Hanks, Robin Wright, Gary Sinise\n",
    "        Budget: $55 million\n",
    "        Box Office: $678.2 million\n",
    "        Genre: Drama/Romance\n",
    "        Synopsis: The film chronicles the life of Forrest Gump, a simple man with a low IQ but a heart of gold, as he inadvertently becomes part of several pivotal moments in American history. Through his journey, Forrest teaches us about love, perseverance, and the beauty of life's unexpected twists and turns.\n",
    "        \"\"\",\n",
    "    },\n",
    "]\n",
    "\n",
    "example_prompt = ChatPromptTemplate.from_messages(\n",
    "    [\n",
    "        (\"human\", \"What do you know about {movie}?\"),\n",
    "        (\"ai\", \"{answer}\"),\n",
    "    ]\n",
    ")\n",
    "\n",
    "prompt = FewShotChatMessagePromptTemplate(\n",
    "    example_prompt = example_prompt,\n",
    "    examples=examples,\n",
    ")\n",
    "\n",
    "movie_prompt = ChatPromptTemplate.from_messages(\n",
    "    [\n",
    "        (\"system\", \"You are a movie mania, you should give a summarized answer\"),\n",
    "        prompt,\n",
    "        (\"human\", \"What do you know about {movie}?\")\n",
    "    ]\n",
    ")\n",
    "\n",
    "moive_chain = movie_prompt | chat_model\n",
    "\n",
    "moive_chain.invoke(\n",
    "    {\"movie\" : \"The Godfather\"}\n",
    ")\n",
    "\n"
   ]
  }
 ],
 "metadata": {
  "kernelspec": {
   "display_name": "env",
   "language": "python",
   "name": "python3"
  },
  "language_info": {
   "codemirror_mode": {
    "name": "ipython",
    "version": 3
   },
   "file_extension": ".py",
   "mimetype": "text/x-python",
   "name": "python",
   "nbconvert_exporter": "python",
   "pygments_lexer": "ipython3",
   "version": "3.11.6"
  },
  "orig_nbformat": 4
 },
 "nbformat": 4,
 "nbformat_minor": 2
}
