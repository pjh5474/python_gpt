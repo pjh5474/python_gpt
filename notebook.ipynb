{
 "cells": [
  {
   "cell_type": "code",
   "execution_count": 65,
   "metadata": {},
   "outputs": [],
   "source": [
    "from langchain.chat_models import ChatOpenAI\n",
    "from langchain.callbacks import StreamingStdOutCallbackHandler\n",
    "from langchain.memory import ConversationBufferMemory\n",
    "\n",
    "chat_model = ChatOpenAI(\n",
    "    temperature=0.1,\n",
    "    streaming=True,\n",
    "    callbacks=[\n",
    "        StreamingStdOutCallbackHandler(),\n",
    "    ]\n",
    ")\n",
    "\n",
    "memory = ConversationBufferMemory(\n",
    "    llm=chat_model,\n",
    "    max_token_limit=120,\n",
    "    memory_key=\"movie_chat_history\",\n",
    "    return_messages=True,\n",
    ")"
   ]
  },
  {
   "cell_type": "code",
   "execution_count": 66,
   "metadata": {},
   "outputs": [
    {
     "name": "stdout",
     "output_type": "stream",
     "text": [
      "Sure! Here is the summary of \"Charlie and the Chocolate Factory\" in three emojis:\n",
      "\n",
      "🍫🍭🎩"
     ]
    }
   ],
   "source": [
    "from langchain.prompts import ChatPromptTemplate, MessagesPlaceholder\n",
    "from langchain.prompts.few_shot import FewShotChatMessagePromptTemplate\n",
    "from langchain.schema.runnable import RunnablePassthrough\n",
    "\n",
    "examples = [\n",
    "    {\n",
    "        \"movie\": \"Inception\",\n",
    "        \"answer\": \"\"\"\n",
    "        🧠💭🌀\n",
    "        \"\"\",\n",
    "    },\n",
    "    {\n",
    "        \"movie\": \"The Shawshank Redemption\",\n",
    "        \"answer\": \"\"\"\n",
    "        ⛓️🔨🏃\n",
    "        \"\"\",\n",
    "    },\n",
    "    {\n",
    "        \"movie\": \"Avatar\",\n",
    "        \"answer\": \"\"\"\n",
    "        🌿🔵🌌\n",
    "        \"\"\",\n",
    "    },\n",
    "    {\n",
    "        \"movie\": \"The Dark Knight\",\n",
    "        \"answer\": \"\"\"\n",
    "        🦇🃏🌃\n",
    "        \"\"\",\n",
    "    },\n",
    "    {\n",
    "        \"movie\": \"Forrest Gump\",\n",
    "        \"answer\": \"\"\"\n",
    "        🏃🍫🎈\n",
    "        \"\"\",\n",
    "    },\n",
    "]\n",
    "\n",
    "example_prompt = ChatPromptTemplate.from_messages(\n",
    "    [\n",
    "        (\"human\", \"Using only 3 emojis, explain about this movie: {movie}\"),\n",
    "        (\"ai\", \"{answer}\"),\n",
    "    ]\n",
    ")\n",
    "\n",
    "few_shot_prompt = FewShotChatMessagePromptTemplate(\n",
    "    example_prompt=example_prompt,\n",
    "    examples=examples,\n",
    ")\n",
    "\n",
    "movie_prompt = ChatPromptTemplate.from_messages(\n",
    "    [\n",
    "        (\n",
    "            \"system\",\n",
    "            \"You are a movie mania and you are participating in a movie-emoji game. When introducing a movie, You have to sum up the movie in three emojis. Learn 'how to play the game' and participate in the movie-emoji game\",\n",
    "        ),\n",
    "        (\"system\", \"How to play the game : \"),\n",
    "        few_shot_prompt,\n",
    "        (\n",
    "            \"system\",\n",
    "            \"Let's start movie-emoji game!\",\n",
    "        ),\n",
    "        MessagesPlaceholder(variable_name=\"movie_chat_history\"),\n",
    "        (\"human\", \"{question}\"),\n",
    "    ]\n",
    ")\n",
    "\n",
    "def load_memory(_):\n",
    "    return memory.load_memory_variables({})[\"movie_chat_history\"]\n",
    "\n",
    "movie_chain = RunnablePassthrough.assign(movie_chat_history = load_memory) | movie_prompt | chat_model\n",
    "\n",
    "def invoke_movie_chain(question):\n",
    "    result = movie_chain.invoke({\"question\": question})\n",
    "    memory.save_context(\n",
    "        {\"input\": question},\n",
    "        {\"output\": result.content}\n",
    "    )\n",
    "\n",
    "\n",
    "invoke_movie_chain(\"please explain about 'charlie and the chocolate factory\")\n"
   ]
  },
  {
   "cell_type": "code",
   "execution_count": 67,
   "metadata": {},
   "outputs": [
    {
     "name": "stdout",
     "output_type": "stream",
     "text": [
      "Here is the summary of \"Incredibles\" in three emojis:\n",
      "\n",
      "🦸‍♂️👨‍👩‍👧‍👦💥"
     ]
    }
   ],
   "source": [
    "invoke_movie_chain(\"please explain about 'Incredibles\")"
   ]
  },
  {
   "cell_type": "code",
   "execution_count": 68,
   "metadata": {},
   "outputs": [
    {
     "name": "stdout",
     "output_type": "stream",
     "text": [
      "You just asked about \"Incredibles\""
     ]
    }
   ],
   "source": [
    "invoke_movie_chain(\"What was the movie I just asked about?\")"
   ]
  },
  {
   "cell_type": "code",
   "execution_count": 69,
   "metadata": {},
   "outputs": [
    {
     "name": "stdout",
     "output_type": "stream",
     "text": [
      "You asked about \"Charlie and the Chocolate Factory\""
     ]
    }
   ],
   "source": [
    "invoke_movie_chain(\"What was the movie I asked before that?\")"
   ]
  },
  {
   "cell_type": "code",
   "execution_count": 70,
   "metadata": {},
   "outputs": [
    {
     "name": "stdout",
     "output_type": "stream",
     "text": [
      "Here is the summary of \"Joker\" in three emojis:\n",
      "\n",
      "🤡🃏🔥"
     ]
    }
   ],
   "source": [
    "invoke_movie_chain(\"Joker\")\n"
   ]
  }
 ],
 "metadata": {
  "kernelspec": {
   "display_name": "env",
   "language": "python",
   "name": "python3"
  },
  "language_info": {
   "codemirror_mode": {
    "name": "ipython",
    "version": 3
   },
   "file_extension": ".py",
   "mimetype": "text/x-python",
   "name": "python",
   "nbconvert_exporter": "python",
   "pygments_lexer": "ipython3",
   "version": "3.11.6"
  },
  "orig_nbformat": 4
 },
 "nbformat": 4,
 "nbformat_minor": 2
}
