{
 "cells": [
  {
   "cell_type": "code",
   "execution_count": 18,
   "metadata": {},
   "outputs": [],
   "source": [
    "from langchain.chat_models import ChatOpenAI\n",
    "from langchain.callbacks import StreamingStdOutCallbackHandler\n",
    "\n",
    "chat_model = ChatOpenAI(\n",
    "    temperature=0.1,\n",
    "    streaming=True,\n",
    "    callbacks=[\n",
    "        StreamingStdOutCallbackHandler(),\n",
    "    ]\n",
    ")\n"
   ]
  },
  {
   "cell_type": "code",
   "execution_count": 23,
   "metadata": {},
   "outputs": [
    {
     "name": "stdout",
     "output_type": "stream",
     "text": [
      "Title: The Dance of JavaScript\n",
      "\n",
      "In the realm of web and code,\n",
      "Where languages meet and nodes,\n",
      "There dances one with grace untold,\n",
      "JavaScript, bright and bold.\n",
      "\n",
      "With functions, arrays, and loops,\n",
      "It weaves through pages, jumps and swoops,\n",
      "Interacting with the user's touch,\n",
      "Bringing websites alive as such.\n",
      "\n",
      "From front-end to back-end it spans,\n",
      "A versatile language in many hands,\n",
      "Dynamic, flexible, and free,\n",
      "JavaScript, the heart of web's grand spree.\n",
      "\n",
      "So let us raise a toast today,\n",
      "To the language that lights our way,\n",
      "In the world of bits and bytes so vast,\n",
      "JavaScript, forever will last.\"The Dance of JavaScript\" is a captivating poem that elegantly captures the essence of the programming language JavaScript within the context of web development. The title itself sets the stage for a metaphorical interpretation of JavaScript as a dancer, moving gracefully and boldly through the realm of code and web.\n",
      "\n",
      "The poem opens with a vivid imagery of the coding world as a realm where languages converge and nodes connect, setting the scene for JavaScript to take center stage. The use of rhyme and rhythm throughout the poem adds a musical quality to the verses, enhancing the overall flow and engaging the reader in the dance of words.\n",
      "\n",
      "The poet skillfully personifies JavaScript as a dancer with \"grace untold,\" emphasizing its dynamic and versatile nature. The language is depicted as weaving through pages, interacting with users, and bringing websites to life with its functions, arrays, and loops. This portrayal not only highlights the technical aspects of JavaScript but also imbues it with a sense of creativity and vitality.\n",
      "\n",
      "The poem celebrates JavaScript as a bridge between front-end and back-end development, emphasizing its adaptability and ubiquity in the digital landscape. The language is described as \"dynamic, flexible, and free,\" underscoring its importance in powering the interactive and responsive nature of modern websites.\n",
      "\n",
      "The closing stanzas of the poem invite the reader to raise a toast to JavaScript, acknowledging its enduring significance in the ever-evolving world of technology. The language is hailed as a guiding light in the vast expanse of bits and bytes, symbolizing its enduring legacy and relevance in the digital age.\n",
      "\n",
      "Overall, \"The Dance of JavaScript\" is a beautifully crafted ode to the programming language, blending technical terminology with poetic imagery to create a vivid and engaging portrayal of JavaScript's role in shaping the web development landscape. The poem not only educates and entertains but also inspires a deeper appreciation for the artistry and complexity of programming languages."
     ]
    },
    {
     "data": {
      "text/plain": [
       "AIMessageChunk(content='\"The Dance of JavaScript\" is a captivating poem that elegantly captures the essence of the programming language JavaScript within the context of web development. The title itself sets the stage for a metaphorical interpretation of JavaScript as a dancer, moving gracefully and boldly through the realm of code and web.\\n\\nThe poem opens with a vivid imagery of the coding world as a realm where languages converge and nodes connect, setting the scene for JavaScript to take center stage. The use of rhyme and rhythm throughout the poem adds a musical quality to the verses, enhancing the overall flow and engaging the reader in the dance of words.\\n\\nThe poet skillfully personifies JavaScript as a dancer with \"grace untold,\" emphasizing its dynamic and versatile nature. The language is depicted as weaving through pages, interacting with users, and bringing websites to life with its functions, arrays, and loops. This portrayal not only highlights the technical aspects of JavaScript but also imbues it with a sense of creativity and vitality.\\n\\nThe poem celebrates JavaScript as a bridge between front-end and back-end development, emphasizing its adaptability and ubiquity in the digital landscape. The language is described as \"dynamic, flexible, and free,\" underscoring its importance in powering the interactive and responsive nature of modern websites.\\n\\nThe closing stanzas of the poem invite the reader to raise a toast to JavaScript, acknowledging its enduring significance in the ever-evolving world of technology. The language is hailed as a guiding light in the vast expanse of bits and bytes, symbolizing its enduring legacy and relevance in the digital age.\\n\\nOverall, \"The Dance of JavaScript\" is a beautifully crafted ode to the programming language, blending technical terminology with poetic imagery to create a vivid and engaging portrayal of JavaScript\\'s role in shaping the web development landscape. The poem not only educates and entertains but also inspires a deeper appreciation for the artistry and complexity of programming languages.')"
      ]
     },
     "execution_count": 23,
     "metadata": {},
     "output_type": "execute_result"
    }
   ],
   "source": [
    "from langchain.prompts import ChatPromptTemplate\\\n",
    "\n",
    "make_poem_template = ChatPromptTemplate.from_messages(\n",
    "    [\n",
    "        (\"system\", \"You are an excellent poet. You must write a concise and sophisticated poem about a given programming language. The answer format should consist of the title of the poem and the content of the poem. Please add a blank line at the end.\"),\n",
    "        (\"human\", \"{language}\"),\n",
    "    ]\n",
    ")\n",
    "\n",
    "pome_exp_template = ChatPromptTemplate.from_messages(\n",
    "    [\n",
    "        (\"system\", \"You are a literary critic with excellent linguistic skills. You should describe in detail a poem written on the topic of programming languages.\"),\n",
    "        (\"human\", \"{poem}\"),\n",
    "    ]\n",
    ")\n",
    "\n",
    "make_poem_chain = make_poem_template | chat_model \n",
    "\n",
    "poem_exp_chain = pome_exp_template | chat_model\n",
    "\n",
    "final_chain = {\"poem\" : make_poem_chain} | poem_exp_chain\n",
    "\n",
    "final_chain.invoke(\n",
    "    {\n",
    "        \"language\": \"javascript\"\n",
    "    }\n",
    ")"
   ]
  }
 ],
 "metadata": {
  "kernelspec": {
   "display_name": "env",
   "language": "python",
   "name": "python3"
  },
  "language_info": {
   "codemirror_mode": {
    "name": "ipython",
    "version": 3
   },
   "file_extension": ".py",
   "mimetype": "text/x-python",
   "name": "python",
   "nbconvert_exporter": "python",
   "pygments_lexer": "ipython3",
   "version": "3.11.6"
  },
  "orig_nbformat": 4
 },
 "nbformat": 4,
 "nbformat_minor": 2
}
